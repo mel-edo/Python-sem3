{
 "cells": [
  {
   "cell_type": "code",
   "execution_count": 37,
   "id": "86c0c459-d5e2-4122-a4ac-d0f487441fff",
   "metadata": {},
   "outputs": [
    {
     "name": "stdout",
     "output_type": "stream",
     "text": [
      "[3, 6, 9, 12, 15]\n"
     ]
    }
   ],
   "source": [
    "# 1) Write a python rogram to triple all numbers in a list using python map\n",
    "\n",
    "arr = [1, 2, 3, 4, 5]\n",
    "def triple(x):\n",
    "    return x * 3\n",
    "\n",
    "# print(list(map(lambda x: x*3, arr)))\n",
    "print(list(map(triple, arr)))\n",
    "\n",
    "# l1 = list(map(int, input().split()))\n",
    "# print(l1)"
   ]
  },
  {
   "cell_type": "code",
   "execution_count": 29,
   "id": "b80fd3b9-f489-487f-a57a-da2b81d1d9fc",
   "metadata": {},
   "outputs": [
    {
     "name": "stdout",
     "output_type": "stream",
     "text": [
      "[18, 21, 24]\n"
     ]
    }
   ],
   "source": [
    "# 2) write a python program to add three given lists using python map and lambda\n",
    "arr1 = [1, 2, 3, 4, 5]\n",
    "arr2 = [6, 7, 8, 9, 10]\n",
    "arr3 = [11, 12, 13, 14, 15]\n",
    "\n",
    "print(list(map(lambda x, y, z: x + y + z, arr1, arr2, arr3)))"
   ]
  },
  {
   "cell_type": "code",
   "execution_count": 31,
   "id": "09dd9b85-cdab-434f-8a8d-a092e4a5cdb0",
   "metadata": {},
   "outputs": [
    {
     "name": "stdout",
     "output_type": "stream",
     "text": [
      "[['h', 'e', 'l', 'l', 'o'], ['w', 'o', 'r', 'l', 'd'], ['p', 'y', 't', 'h', 'o', 'n']]\n"
     ]
    }
   ],
   "source": [
    "# 3) write a python program to listify the list of given strings individually using python map\n",
    "arr = [\"hello\", \"world\", \"python\"]\n",
    "\n",
    "print(list(map(lambda x: list(x), arr)))"
   ]
  },
  {
   "cell_type": "code",
   "execution_count": 75,
   "id": "29b1f68f-6553-4b26-8f8d-87c7a28c9f1c",
   "metadata": {},
   "outputs": [
    {
     "name": "stdout",
     "output_type": "stream",
     "text": [
      "Enter the base number:  4\n",
      "Enter the length of the list:  3\n"
     ]
    },
    {
     "name": "stdout",
     "output_type": "stream",
     "text": [
      "Powers of 4 from 0 to 2: [1, 4, 16]\n"
     ]
    }
   ],
   "source": [
    "# 4) write a python program to create a list containing the power of said number in bases raised to the coreresponding number in the index using map\n",
    "def generate_powers(base, length):\n",
    "    return list(map(lambda x: base ** x, range(length)))\n",
    "\n",
    "base_number = int(input(\"Enter the base number: \"))\n",
    "list_length = int(input(\"Enter the length of the list: \"))\n",
    "\n",
    "result = generate_powers(base_number, list_length)\n",
    "print(f\"Powers of {base_number} from 0 to {list_length - 1}: {result}\")"
   ]
  },
  {
   "cell_type": "code",
   "execution_count": 35,
   "id": "76c2d6a2-588a-4440-bf4d-fc0183c1ecb7",
   "metadata": {},
   "outputs": [
    {
     "name": "stdout",
     "output_type": "stream",
     "text": [
      " 1 2 3 4 5\n"
     ]
    },
    {
     "name": "stdout",
     "output_type": "stream",
     "text": [
      "[1, 4, 9, 16, 25]\n"
     ]
    }
   ],
   "source": [
    "# 5) write a python program to square the elements of a list using the python map function\n",
    "print(list(map(lambda x: x**2, list(map(int, input().split())))))"
   ]
  },
  {
   "cell_type": "code",
   "execution_count": 83,
   "id": "9d6d161f-0b16-4d26-9be3-836e7a80f3a6",
   "metadata": {},
   "outputs": [
    {
     "name": "stdout",
     "output_type": "stream",
     "text": [
      " hello WORLD\n"
     ]
    },
    {
     "name": "stdout",
     "output_type": "stream",
     "text": [
      "HELLO WORLD\n",
      "hello world\n",
      "HELO WRD\n",
      "helo wrd\n"
     ]
    }
   ],
   "source": [
    "# 6) write a python program to convert all characters into uppercase and lowercase and eliminate duplicate letters from given sequence using map\n",
    "seq = input()\n",
    "\n",
    "uppercase = \"\".join(list(map(lambda x: x.upper(), seq)))\n",
    "lowercase = \"\".join(list(map(lambda x: x.lower(), seq)))\n",
    "\n",
    "duplicates_upper = \"\".join(dict.fromkeys(uppercase))\n",
    "duplicates_lower = \"\".join(dict.fromkeys(lowercase))\n",
    "\n",
    "print(uppercase)\n",
    "print(lowercase)\n",
    "print(duplicates_upper)\n",
    "print(duplicates_lower)"
   ]
  },
  {
   "cell_type": "code",
   "execution_count": 93,
   "id": "15c2814a-90dd-47a0-921b-b472f1c744eb",
   "metadata": {},
   "outputs": [
    {
     "name": "stdout",
     "output_type": "stream",
     "text": [
      " 1 2 3 4 5\n",
      " 10 15 20 25 30\n"
     ]
    },
    {
     "name": "stdout",
     "output_type": "stream",
     "text": [
      "Sum of lists: [11, 17, 23, 29, 35]\n",
      "Difference of lists: [-9, -13, -17, -21, -25]\n"
     ]
    }
   ],
   "source": [
    "# 7) write a python program to add 2 given lists and find differences between them using map\n",
    "\n",
    "def add_lists(list1, list2):\n",
    "    return list(map(lambda x, y: x + y, list1, list2))\n",
    "\n",
    "def difference_lists(list1, list2):\n",
    "    return list(map(lambda x, y: x - y, list1, list2))\n",
    "\n",
    "list1 = list(map(int, input().split()))\n",
    "list2 = list(map(int, input().split()))\n",
    "\n",
    "if len(list1) != len(list2):\n",
    "    print(\"Lists must be of the same length.\")\n",
    "else:\n",
    "    sum_result = add_lists(list1, list2)\n",
    "    difference_result = difference_lists(list1, list2)\n",
    "    print(f\"Sum of lists: {sum_result}\")\n",
    "    print(f\"Difference of lists: {difference_result}\")\n"
   ]
  },
  {
   "cell_type": "code",
   "execution_count": 95,
   "id": "103d38b6-75f2-4a81-9341-8aa1c3267f8f",
   "metadata": {},
   "outputs": [
    {
     "name": "stdout",
     "output_type": "stream",
     "text": [
      "List of strings from the list: ['1', '2', '3', '4', '5']\n",
      "List of strings from the tuple: ['6', '7', '8', '9', '10']\n"
     ]
    }
   ],
   "source": [
    "# 8) wap to convert a given list of integers and a tuple of integers in a list of strings\n",
    "\n",
    "def convert_to_strings(input_collection):\n",
    "    return list(map(str, input_collection))\n",
    "\n",
    "integer_list = [1, 2, 3, 4, 5]\n",
    "integer_tuple = (6, 7, 8, 9, 10)\n",
    "\n",
    "list_of_strings = convert_to_strings(integer_list)\n",
    "tuple_of_strings = convert_to_strings(integer_tuple)\n",
    "\n",
    "print(f\"List of strings from the list: {list_of_strings}\")\n",
    "print(f\"List of strings from the tuple: {tuple_of_strings}\")\n"
   ]
  },
  {
   "cell_type": "code",
   "execution_count": 99,
   "id": "3f1a3aad-adc7-4de6-83d7-324671865d1e",
   "metadata": {},
   "outputs": [
    {
     "name": "stdout",
     "output_type": "stream",
     "text": [
      "New list from the tuple: [20, 40]\n",
      "Converted integer value from string '123': 123\n"
     ]
    }
   ],
   "source": [
    "# 9) wap to create a new list taking specific elements from a tuple and convert a string value to an integer\n",
    "\n",
    "def list_tuple(input_tuple, indices):\n",
    "    return [input_tuple[i] for i in indices]\n",
    "\n",
    "tuple1 = (10, 20, 30, 40, 50)\n",
    "indexes = [1, 3]\n",
    "\n",
    "l1 = list_tuple(tuple1, indexes)\n",
    "\n",
    "string_value = \"123\"\n",
    "integer_value = int(string_value)\n",
    "\n",
    "print(f\"New list from the tuple: {l1}\")\n",
    "print(f\"Converted integer value from string '{string_value}': {integer_value}\")\n"
   ]
  },
  {
   "cell_type": "code",
   "execution_count": 1,
   "id": "6e5a6e65-1a49-4254-8314-efe57c96fa5f",
   "metadata": {},
   "outputs": [
    {
     "name": "stdout",
     "output_type": "stream",
     "text": [
      "[0, 1, 1, 4, 9, 25, 64, 169, 441, 1156]\n"
     ]
    }
   ],
   "source": [
    "# 10) wap to compute the square of first n fibonacci numbers using map and generate a list of numbers\n",
    "def fibonacci(n):\n",
    "    fib_sequence = [0, 1]\n",
    "    while len(fib_sequence) < n:\n",
    "        fib_sequence.append(fib_sequence[-1] + fib_sequence[-2])\n",
    "    return fib_sequence[:n]\n",
    "\n",
    "def square(x):\n",
    "    return x * x\n",
    "\n",
    "def square_of_fibonacci(n):\n",
    "    fib_numbers = fibonacci(n)\n",
    "    squared_fib_numbers = list(map(square, fib_numbers))\n",
    "    return squared_fib_numbers\n",
    "\n",
    "n = 10\n",
    "print(square_of_fibonacci(n))"
   ]
  },
  {
   "cell_type": "code",
   "execution_count": 2,
   "id": "a2f896c9-a3dc-4405-b416-009c025ec80f",
   "metadata": {},
   "outputs": [
    {
     "name": "stdout",
     "output_type": "stream",
     "text": [
      "34\n"
     ]
    }
   ],
   "source": [
    "# 11) wap to compute the sum of elements of an array of integers using map\n",
    "print(sum(map(lambda x: x, map(int, input().split()))))"
   ]
  }
 ],
 "metadata": {
  "kernelspec": {
   "display_name": "Python 3 (ipykernel)",
   "language": "python",
   "name": "python3"
  },
  "language_info": {
   "codemirror_mode": {
    "name": "ipython",
    "version": 3
   },
   "file_extension": ".py",
   "mimetype": "text/x-python",
   "name": "python",
   "nbconvert_exporter": "python",
   "pygments_lexer": "ipython3",
   "version": "3.12.6"
  }
 },
 "nbformat": 4,
 "nbformat_minor": 5
}
