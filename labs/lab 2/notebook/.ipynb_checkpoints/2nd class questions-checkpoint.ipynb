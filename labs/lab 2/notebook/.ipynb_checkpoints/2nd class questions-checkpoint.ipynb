{
 "cells": [
  {
   "cell_type": "code",
   "execution_count": 1,
   "id": "2360285b-fcbd-499a-8747-9dea399d3b27",
   "metadata": {},
   "outputs": [],
   "source": [
    "# Write a program to read and print values of variables of different data types with their type"
   ]
  },
  {
   "cell_type": "code",
   "execution_count": 3,
   "id": "aa7eb902-18a4-45f3-948a-5c930f92f5c2",
   "metadata": {},
   "outputs": [
    {
     "name": "stdin",
     "output_type": "stream",
     "text": [
      "string:  hello\n",
      "int:  5\n",
      "float:  5.5\n"
     ]
    },
    {
     "name": "stdout",
     "output_type": "stream",
     "text": [
      "hello 5 5.5\n",
      "<class 'str'> <class 'int'> <class 'float'>\n"
     ]
    }
   ],
   "source": [
    "a = input(\"string: \")\n",
    "b = int(input(\"int: \"))\n",
    "c = float(input(\"float: \"))\n",
    "print(a, b, c)\n",
    "print(type(a), type(b), type(c))"
   ]
  },
  {
   "cell_type": "code",
   "execution_count": 7,
   "id": "c1a57bfa-05e6-41f7-af5b-204705253016",
   "metadata": {},
   "outputs": [],
   "source": [
    "# wap to perform addition, subtraction, multiplication, division on two floating point number and print the result upto two places of decimal"
   ]
  },
  {
   "cell_type": "code",
   "execution_count": 11,
   "id": "40bc70a9-83fb-49a5-8ed0-62043d711e75",
   "metadata": {},
   "outputs": [
    {
     "name": "stdin",
     "output_type": "stream",
     "text": [
      "first float:  9.1231243\n",
      "second float:  12315.131\n"
     ]
    },
    {
     "name": "stdout",
     "output_type": "stream",
     "text": [
      "12324.25\n",
      "-12306.01\n",
      "112352.47\n",
      "0.0\n"
     ]
    }
   ],
   "source": [
    "a = float(input(\"first float: \"))\n",
    "b = float(input(\"second float: \"))\n",
    "print(round(a + b, 2))\n",
    "print(round(a - b, 2))\n",
    "print(round(a * b, 2))\n",
    "print(round(a / b, 2))\n",
    "# can be done as print(f\"Result: {result: .2f}\")\n",
    "# print(\"result: %.2f\" % result)"
   ]
  },
  {
   "cell_type": "code",
   "execution_count": 13,
   "id": "be12942c-0a58-4808-9fae-5315f0a015df",
   "metadata": {},
   "outputs": [],
   "source": [
    "# wap to demonstrate diff datatypes and arthmetic operations in python"
   ]
  },
  {
   "cell_type": "code",
   "execution_count": 15,
   "id": "f542ae66-de7b-44b8-a924-f1f8eba44e62",
   "metadata": {},
   "outputs": [
    {
     "name": "stdout",
     "output_type": "stream",
     "text": [
      "11.1231\n",
      "0.8165798370106645\n",
      "30.6155\n",
      "-1.1231\n",
      "5.0\n",
      "0.0\n",
      "<class 'int'> <class 'float'>\n",
      "<class 'bool'>\n"
     ]
    }
   ],
   "source": [
    "a = 5\n",
    "b = 6.1231\n",
    "print(a + b)\n",
    "print(a / b)\n",
    "print(a * b)\n",
    "print(a - b)\n",
    "print(a % b)\n",
    "print(a // b)\n",
    "print(type(a), type(b))\n",
    "print(type(True))"
   ]
  },
  {
   "cell_type": "code",
   "execution_count": 17,
   "id": "5b0ed83a-c229-4671-9c6e-66ceecf32014",
   "metadata": {},
   "outputs": [],
   "source": [
    "# avg of 2 numbers and print their deviation"
   ]
  },
  {
   "cell_type": "code",
   "execution_count": 19,
   "id": "e9b77c69-c291-453a-8b63-b6ed29fc5a15",
   "metadata": {},
   "outputs": [
    {
     "name": "stdin",
     "output_type": "stream",
     "text": [
      "1st:  5\n",
      "2nd:  4\n"
     ]
    },
    {
     "name": "stdout",
     "output_type": "stream",
     "text": [
      "4.5\n",
      "0.5 -0.5\n"
     ]
    }
   ],
   "source": [
    "a = int(input(\"1st: \"))\n",
    "b = int(input(\"2nd: \"))\n",
    "res = (a + b) / 2\n",
    "deviation_a = a - res\n",
    "deviation_b = b - res\n",
    "print(res)\n",
    "print(deviation_a, deviation_b)"
   ]
  },
  {
   "cell_type": "code",
   "execution_count": 21,
   "id": "6ac062a0-11ba-4e7e-b819-6067372eecb4",
   "metadata": {},
   "outputs": [],
   "source": [
    "# prepare grocery bill, enter name of items purchased, qty, price per unit"
   ]
  },
  {
   "cell_type": "code",
   "execution_count": 37,
   "id": "e711c54f-da12-4d8c-92cd-2db1273c3308",
   "metadata": {},
   "outputs": [
    {
     "name": "stdin",
     "output_type": "stream",
     "text": [
      "enter number of items:  2\n",
      "Item name:  asda\n",
      "qty:  5\n",
      "price:  10\n",
      "Item name:  asdvndeh\n",
      "qty:  5\n",
      "price:  5\n"
     ]
    },
    {
     "name": "stdout",
     "output_type": "stream",
     "text": [
      "******************************BILL******************************\n",
      "Item Name                   Item quantity        Item price\n",
      "asda                          5                  10\n",
      "asdvndeh                          5                  5\n",
      "******************************\n",
      "Total amount to be paid\n",
      "15\n",
      "******************************\n"
     ]
    }
   ],
   "source": [
    "no_of_items = int(input(\"enter number of items: \"))\n",
    "items = []\n",
    "total_price = 0\n",
    "for i in range(no_of_items):\n",
    "    item_name = input(\"Item name: \")\n",
    "    qty = input(\"qty: \")\n",
    "    price = int(input(\"price: \"))\n",
    "    total_price += price\n",
    "    items.append([item_name, qty, price])\n",
    "\n",
    "print(\"******************************BILL******************************\")\n",
    "print()\n",
    "print(\"Item Name                   Item quantity        Item price\")\n",
    "for desc in items:\n",
    "    print(desc[0], \"                        \", desc[1], \"                \", desc[2])\n",
    "print()\n",
    "print(\"******************************\")\n",
    "print(\"Total amount to be paid\")\n",
    "print(total_price)\n",
    "print(\"******************************\")"
   ]
  },
  {
   "cell_type": "code",
   "execution_count": 27,
   "id": "c97ccf0d-d666-45be-aa44-c8ecea693057",
   "metadata": {},
   "outputs": [],
   "source": [
    "# demonstrate different types of comments"
   ]
  },
  {
   "cell_type": "code",
   "execution_count": 39,
   "id": "fea8b42b-482b-47ed-a7d9-a1ceef4fc4e6",
   "metadata": {},
   "outputs": [
    {
     "data": {
      "text/plain": [
       "'\\nmulti\\nline\\ncomment\\n'"
      ]
     },
     "execution_count": 39,
     "metadata": {},
     "output_type": "execute_result"
    }
   ],
   "source": [
    "# single line comment\n",
    "\n",
    "'''\n",
    "multi\n",
    "line\n",
    "comment\n",
    "'''"
   ]
  },
  {
   "cell_type": "code",
   "execution_count": 43,
   "id": "127328f6-5078-4786-98d6-c7eb7aa2b036",
   "metadata": {},
   "outputs": [
    {
     "name": "stdout",
     "output_type": "stream",
     "text": [
      "asdasda\n",
      "asdad\n"
     ]
    }
   ],
   "source": [
    "print(\"asdasda\", \"asdad\", sep=\"\\n\")"
   ]
  },
  {
   "cell_type": "code",
   "execution_count": null,
   "id": "5fe5042c-0f48-453a-9a49-9bd42b53f734",
   "metadata": {},
   "outputs": [],
   "source": [
    "print()"
   ]
  }
 ],
 "metadata": {
  "kernelspec": {
   "display_name": "Python 3 (ipykernel)",
   "language": "python",
   "name": "python3"
  },
  "language_info": {
   "codemirror_mode": {
    "name": "ipython",
    "version": 3
   },
   "file_extension": ".py",
   "mimetype": "text/x-python",
   "name": "python",
   "nbconvert_exporter": "python",
   "pygments_lexer": "ipython3",
   "version": "3.12.4"
  }
 },
 "nbformat": 4,
 "nbformat_minor": 5
}
