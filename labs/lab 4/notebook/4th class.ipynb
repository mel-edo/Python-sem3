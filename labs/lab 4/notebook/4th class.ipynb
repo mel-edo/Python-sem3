{
 "cells": [
  {
   "cell_type": "code",
   "execution_count": 3,
   "id": "25c6d6a8-5f2e-41e9-b5a6-a3b2cf55702b",
   "metadata": {},
   "outputs": [],
   "source": [
    "# name, father name, reg no. store in one string\n",
    "# take a loop and extract your reg no. without using slicing and store in new variable"
   ]
  },
  {
   "cell_type": "code",
   "execution_count": 38,
   "id": "2727a3cc-2f8f-4e91-ba21-2dd927362af2",
   "metadata": {},
   "outputs": [
    {
     "name": "stdout",
     "output_type": "stream",
     "text": [
      "23FE10CSE00264\n"
     ]
    }
   ],
   "source": [
    "str1 = \"Saurabh23FE10CSE00264K P Rajeev\"\n",
    "reg_no = \"\"\n",
    "for i in range(len(str1)):\n",
    "    if str1[i].isdigit():\n",
    "        for a in range(14):\n",
    "            reg_no += str1[i + a]\n",
    "        break\n",
    "\n",
    "print(reg_no)"
   ]
  },
  {
   "cell_type": "code",
   "execution_count": null,
   "id": "498dc42f-c816-47bc-bbf1-62d113759773",
   "metadata": {},
   "outputs": [],
   "source": [
    "# 1) WAP to find a number is prime or not\n",
    "# 2) WAP to find the given number is palindrome or not\n",
    "# 3) WAP to find the grade of student using given percentage\n",
    "# 4) WAP to create a simple console base calculator"
   ]
  },
  {
   "cell_type": "code",
   "execution_count": 60,
   "id": "1ac300b9-5011-4be5-b20b-f344e8d9a387",
   "metadata": {},
   "outputs": [
    {
     "name": "stdout",
     "output_type": "stream",
     "text": [
      " 10\n"
     ]
    },
    {
     "name": "stdout",
     "output_type": "stream",
     "text": [
      "10 is not prime\n"
     ]
    }
   ],
   "source": [
    "# 1)\n",
    "num = int(input())\n",
    "flag = 0\n",
    "if num < 2:\n",
    "    flag = 1\n",
    "for i in range(2, num):\n",
    "    if num % i == 0:\n",
    "        flag = 1\n",
    "        break\n",
    "\n",
    "if flag == 0:\n",
    "    print(num, \"is prime\")\n",
    "else:\n",
    "    print(num, \"is not prime\")"
   ]
  },
  {
   "cell_type": "code",
   "execution_count": 66,
   "id": "ad12f5d1-cd1a-472d-bac7-24b69ced92df",
   "metadata": {},
   "outputs": [
    {
     "name": "stdout",
     "output_type": "stream",
     "text": [
      " 1001\n"
     ]
    },
    {
     "name": "stdout",
     "output_type": "stream",
     "text": [
      "1001 is a palindrome\n"
     ]
    }
   ],
   "source": [
    "# 2)\n",
    "num = int(input())\n",
    "num = str(num)\n",
    "if num == num[::-1]:\n",
    "    print(int(num), \"is a palindrome\")\n",
    "else:\n",
    "    print(int(num), \"is not a palindrome\")"
   ]
  },
  {
   "cell_type": "code",
   "execution_count": 78,
   "id": "a4c5965a-600c-41b6-9075-55839c12e6fe",
   "metadata": {},
   "outputs": [
    {
     "name": "stdout",
     "output_type": "stream",
     "text": [
      " 75\n"
     ]
    },
    {
     "name": "stdout",
     "output_type": "stream",
     "text": [
      "Grade C\n"
     ]
    }
   ],
   "source": [
    "# 3)\n",
    "percentage = int(input())\n",
    "if percentage >= 90:\n",
    "    print(\"Grade A\")\n",
    "elif percentage >= 80:\n",
    "    print(\"Grade B\")\n",
    "elif percentage >= 70:\n",
    "    print(\"Grade C\")\n",
    "elif percentage >= 50:\n",
    "    print(\"Grade D\")\n",
    "else:\n",
    "    print(\"Grade F\")"
   ]
  },
  {
   "cell_type": "code",
   "execution_count": 88,
   "id": "7607d9e0-e158-4324-9c0c-660885029279",
   "metadata": {},
   "outputs": [
    {
     "name": "stdout",
     "output_type": "stream",
     "text": [
      "Enter first number: \n"
     ]
    },
    {
     "name": "stdout",
     "output_type": "stream",
     "text": [
      " 5\n"
     ]
    },
    {
     "name": "stdout",
     "output_type": "stream",
     "text": [
      "Enter second number: \n"
     ]
    },
    {
     "name": "stdout",
     "output_type": "stream",
     "text": [
      " 4\n"
     ]
    },
    {
     "name": "stdout",
     "output_type": "stream",
     "text": [
      "Enter +, -, /, *, %, //: \n"
     ]
    },
    {
     "name": "stdout",
     "output_type": "stream",
     "text": [
      " +\n"
     ]
    },
    {
     "name": "stdout",
     "output_type": "stream",
     "text": [
      "9\n"
     ]
    }
   ],
   "source": [
    "# 4)\n",
    "print(\"Enter first number: \")\n",
    "num1 = int(input())\n",
    "print(\"Enter second number: \")\n",
    "num2 = int(input())\n",
    "\n",
    "while True:\n",
    "    print(\"Enter +, -, /, *, %, //: \")\n",
    "    operator = input()\n",
    "    if operator == \"+\":\n",
    "        print(num1 + num2)\n",
    "        break\n",
    "    elif operator == \"-\":\n",
    "        print(num1 - num2)\n",
    "        break\n",
    "    elif operator == \"*\":\n",
    "        print(num1 * num2)\n",
    "        break\n",
    "    elif operator == \"/\":\n",
    "        print(num1 / num2)\n",
    "        break\n",
    "    elif operator == \"//\":\n",
    "        print(num1 // num2)\n",
    "        break\n",
    "    elif operator == \"%\":\n",
    "        print(num1 % num2)\n",
    "        break\n",
    "    else:\n",
    "        print(\"Enter valid operator\")"
   ]
  },
  {
   "cell_type": "code",
   "execution_count": 1,
   "id": "290b10a6-e78f-4b74-8a7e-9dd1b58bef2a",
   "metadata": {},
   "outputs": [
    {
     "name": "stdout",
     "output_type": "stream",
     "text": [
      "Total count:  4\n",
      "Max length of matching string:  8\n",
      "Max length of matching string starts from 17 to 25\n",
      "\n",
      "A: 34.78%\n",
      "T: 23.91%\n",
      "C: 21.74%\n",
      "G: 17.39%\n",
      "TC: 26.09%\n",
      "GT: 26.09%\n",
      "TG: 4.35%\n",
      "GA: 0.00%\n",
      "CT: 4.35%\n",
      "AG: 30.43%\n",
      "TGC: 6.52%\n",
      "ATG: 0.00%\n",
      "GAT: 0.00%\n",
      "GTC: 39.13%\n",
      "TAG: 13.04%\n",
      "GTA: 0.00%\n",
      "CGT: 0.00%\n",
      "CTG: 0.00%\n",
      "AGT: 39.13%\n",
      "TGA: 0.00%\n",
      "GCT: 6.52%\n",
      "TCG: 0.00%\n",
      "TGAC: 0.00%\n",
      "CGTA: 0.00%\n",
      "AGCT: 0.00%\n",
      "GTCA: 43.48%\n",
      "TAGC: 8.70%\n",
      "CATG: 0.00%\n",
      "TACG: 0.00%\n",
      "CTAG: 0.00%\n",
      "CAGT: 17.39%\n",
      "ATCG: 0.00%\n",
      "GATC: 0.00%\n",
      "GACT: 0.00%\n",
      "ACGT: 0.00%\n",
      "TGCA: 0.00%\n",
      "CGAT: 0.00%\n",
      "TCGA: 0.00%\n",
      "TCAG: 17.39%\n",
      "AGTC: 52.17%\n",
      "ACTG: 0.00%\n",
      "GCAT: 8.70%\n",
      "GCTA: 8.70%\n",
      "CTGA: 0.00%\n",
      "ATGC: 0.00%\n",
      "GTAC: 0.00%\n"
     ]
    }
   ],
   "source": [
    "import itertools\n",
    "# String matching\n",
    "# \"AGTCATTGCTATAGCATAGTCAGTCAGTCAABACAAGTCACAAGTC\"\n",
    "# \"AGTC\"\n",
    "# follow up - find max len of matching string\n",
    "big_str = input()\n",
    "match = input()\n",
    "count = 0\n",
    "\n",
    "# to find max length of matching string we'll count how many times empty string pops up consecutively in the split string\n",
    "consecutive = 0\n",
    "max_consecutive = 0\n",
    "\n",
    "for i in big_str.split(match):\n",
    "    if len(i) == 0:\n",
    "        consecutive += 1\n",
    "        count += 1\n",
    "    else:\n",
    "        max_consecutive = max(max_consecutive, consecutive)\n",
    "        consecutive = 0\n",
    "\n",
    "print(\"Total count: \", count)\n",
    "print(\"Max length of matching string: \", max_consecutive * len(match))\n",
    "\n",
    "print(\"Max length of matching string starts from\", big_str.index(match * max_consecutive), \"to\", big_str.index(match * max_consecutive) + (max_consecutive * len(match)))\n",
    "\n",
    "def find_permutations_and_matches(string, larger_string):\n",
    "    \"\"\"\n",
    "    Finds all permutations of a string and calculates their matching percentages with a larger string.\n",
    "\n",
    "    Args:\n",
    "        string: The smaller string to find permutations of.\n",
    "        larger_string: The larger string to compare against.\n",
    "\n",
    "    Returns:\n",
    "        A list of tuples, where each tuple contains a permutation and its matching percentage.\n",
    "    \"\"\"\n",
    "\n",
    "    def get_substrings(s):\n",
    "        substrings = set()\n",
    "        for i in range(len(s)):\n",
    "            for j in range(i + 1, len(s) + 1):\n",
    "                substrings.add(s[i:j])\n",
    "        return substrings\n",
    "\n",
    "    substrings = get_substrings(string)\n",
    "    all_permutations = set()\n",
    "\n",
    "    for substring in substrings:\n",
    "        permutations = set(itertools.permutations(substring))\n",
    "        for permutation in permutations:\n",
    "            permutation_str = ''.join(permutation)\n",
    "            all_permutations.add(permutation_str)\n",
    "\n",
    "    sorted_permutations = sorted(all_permutations, key=len)\n",
    "    \n",
    "    results = []\n",
    "    for perm in sorted_permutations:\n",
    "        match_count = larger_string.count(perm)\n",
    "        match_percentage = (match_count * len(perm) / len(larger_string)) * 100\n",
    "        results.append((perm, match_percentage))\n",
    "    \n",
    "    return results\n",
    "\n",
    "results = find_permutations_and_matches(match, big_str)\n",
    "\n",
    "# percentage = round(((count * len(match)) / len(big_str)) * 100, 3)\n",
    "# print(\"Percentage of matching sequence: \", percentage, \"%\", sep=\"\")\n",
    "print()\n",
    "\n",
    "for permutation, percentage in results:\n",
    "    print(f\"{permutation}: {percentage:.2f}%\")"
   ]
  }
 ],
 "metadata": {
  "kernelspec": {
   "display_name": "Python 3",
   "language": "python",
   "name": "python3"
  },
  "language_info": {
   "codemirror_mode": {
    "name": "ipython",
    "version": 3
   },
   "file_extension": ".py",
   "mimetype": "text/x-python",
   "name": "python",
   "nbconvert_exporter": "python",
   "pygments_lexer": "ipython3",
   "version": "3.12.6"
  }
 },
 "nbformat": 4,
 "nbformat_minor": 5
}
