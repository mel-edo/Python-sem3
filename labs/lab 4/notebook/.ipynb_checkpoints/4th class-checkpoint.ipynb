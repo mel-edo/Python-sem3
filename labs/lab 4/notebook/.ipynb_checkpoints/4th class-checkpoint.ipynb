{
 "cells": [
  {
   "cell_type": "code",
   "execution_count": 3,
   "id": "25c6d6a8-5f2e-41e9-b5a6-a3b2cf55702b",
   "metadata": {},
   "outputs": [],
   "source": [
    "# name, father name, reg no. store in one string\n",
    "# take a loop and extract your reg no. without using slicing and store in new variable"
   ]
  },
  {
   "cell_type": "code",
   "execution_count": 38,
   "id": "2727a3cc-2f8f-4e91-ba21-2dd927362af2",
   "metadata": {},
   "outputs": [
    {
     "name": "stdout",
     "output_type": "stream",
     "text": [
      "23FE10CSE00264\n"
     ]
    }
   ],
   "source": [
    "str1 = \"Saurabh23FE10CSE00264K P Rajeev\"\n",
    "reg_no = \"\"\n",
    "for i in range(len(str1)):\n",
    "    if str1[i].isdigit():\n",
    "        for a in range(14):\n",
    "            reg_no += str1[i + a]\n",
    "        break\n",
    "\n",
    "print(reg_no)"
   ]
  },
  {
   "cell_type": "code",
   "execution_count": null,
   "id": "498dc42f-c816-47bc-bbf1-62d113759773",
   "metadata": {},
   "outputs": [],
   "source": [
    "# 1) WAP to find a number is prime or not\n",
    "# 2) WAP to find the given number is palindrome or not\n",
    "# 3) WAP to find the grade of student using given percentage\n",
    "# 4) WAP to create a simple console base calculator"
   ]
  },
  {
   "cell_type": "code",
   "execution_count": 60,
   "id": "1ac300b9-5011-4be5-b20b-f344e8d9a387",
   "metadata": {},
   "outputs": [
    {
     "name": "stdin",
     "output_type": "stream",
     "text": [
      " 10\n"
     ]
    },
    {
     "name": "stdout",
     "output_type": "stream",
     "text": [
      "10 is not prime\n"
     ]
    }
   ],
   "source": [
    "# 1)\n",
    "num = int(input())\n",
    "flag = 0\n",
    "if num < 2:\n",
    "    flag = 1\n",
    "for i in range(2, num):\n",
    "    if num % i == 0:\n",
    "        flag = 1\n",
    "        break\n",
    "\n",
    "if flag == 0:\n",
    "    print(num, \"is prime\")\n",
    "else:\n",
    "    print(num, \"is not prime\")"
   ]
  },
  {
   "cell_type": "code",
   "execution_count": 66,
   "id": "ad12f5d1-cd1a-472d-bac7-24b69ced92df",
   "metadata": {},
   "outputs": [
    {
     "name": "stdin",
     "output_type": "stream",
     "text": [
      " 1001\n"
     ]
    },
    {
     "name": "stdout",
     "output_type": "stream",
     "text": [
      "1001 is a palindrome\n"
     ]
    }
   ],
   "source": [
    "# 2)\n",
    "num = int(input())\n",
    "num = str(num)\n",
    "if num == num[::-1]:\n",
    "    print(int(num), \"is a palindrome\")\n",
    "else:\n",
    "    print(int(num), \"is not a palindrome\")"
   ]
  },
  {
   "cell_type": "code",
   "execution_count": 78,
   "id": "a4c5965a-600c-41b6-9075-55839c12e6fe",
   "metadata": {},
   "outputs": [
    {
     "name": "stdin",
     "output_type": "stream",
     "text": [
      " 75\n"
     ]
    },
    {
     "name": "stdout",
     "output_type": "stream",
     "text": [
      "Grade C\n"
     ]
    }
   ],
   "source": [
    "# 3)\n",
    "percentage = int(input())\n",
    "if percentage >= 90:\n",
    "    print(\"Grade A\")\n",
    "elif percentage >= 80:\n",
    "    print(\"Grade B\")\n",
    "elif percentage >= 70:\n",
    "    print(\"Grade C\")\n",
    "elif percentage >= 50:\n",
    "    print(\"Grade D\")\n",
    "else:\n",
    "    print(\"Grade F\")"
   ]
  },
  {
   "cell_type": "code",
   "execution_count": 88,
   "id": "7607d9e0-e158-4324-9c0c-660885029279",
   "metadata": {},
   "outputs": [
    {
     "name": "stdout",
     "output_type": "stream",
     "text": [
      "Enter first number: \n"
     ]
    },
    {
     "name": "stdin",
     "output_type": "stream",
     "text": [
      " 5\n"
     ]
    },
    {
     "name": "stdout",
     "output_type": "stream",
     "text": [
      "Enter second number: \n"
     ]
    },
    {
     "name": "stdin",
     "output_type": "stream",
     "text": [
      " 4\n"
     ]
    },
    {
     "name": "stdout",
     "output_type": "stream",
     "text": [
      "Enter +, -, /, *, %, //: \n"
     ]
    },
    {
     "name": "stdin",
     "output_type": "stream",
     "text": [
      " +\n"
     ]
    },
    {
     "name": "stdout",
     "output_type": "stream",
     "text": [
      "9\n"
     ]
    }
   ],
   "source": [
    "# 4)\n",
    "print(\"Enter first number: \")\n",
    "num1 = int(input())\n",
    "print(\"Enter second number: \")\n",
    "num2 = int(input())\n",
    "\n",
    "while True:\n",
    "    print(\"Enter +, -, /, *, %, //: \")\n",
    "    operator = input()\n",
    "    if operator == \"+\":\n",
    "        print(num1 + num2)\n",
    "        break\n",
    "    elif operator == \"-\":\n",
    "        print(num1 - num2)\n",
    "        break\n",
    "    elif operator == \"*\":\n",
    "        print(num1 * num2)\n",
    "        break\n",
    "    elif operator == \"/\":\n",
    "        print(num1 / num2)\n",
    "        break\n",
    "    elif operator == \"//\":\n",
    "        print(num1 // num2)\n",
    "        break\n",
    "    elif operator == \"%\":\n",
    "        print(num1 % num2)\n",
    "        break\n",
    "    else:\n",
    "        print(\"Enter valid operator\")"
   ]
  },
  {
   "cell_type": "code",
   "execution_count": 108,
   "id": "290b10a6-e78f-4b74-8a7e-9dd1b58bef2a",
   "metadata": {},
   "outputs": [
    {
     "name": "stdin",
     "output_type": "stream",
     "text": [
      " AGTCATTGCTATAGCATAGTCAGTCAGTCaABACAAGTCACAAGTC\n",
      " AGTC\n"
     ]
    },
    {
     "name": "stdout",
     "output_type": "stream",
     "text": [
      "Total count:  4\n",
      "Max length of matching string:  2\n"
     ]
    }
   ],
   "source": [
    "# String matching\n",
    "# \"AGTCATTGCTATAGCATAGTCAGTCAGTCaABACAAGTCACAAGTC\"\n",
    "# \"AGTC\"\n",
    "# follow up - find max len of matching string\n",
    "big_str = input()\n",
    "match = input()\n",
    "count = 0\n",
    "\n",
    "# to find max length of matching string we'll count how many times empty string pops up consecutively in the split string\n",
    "consecutive = 0\n",
    "max_consecutive = 0\n",
    "\n",
    "for i in big_str.split(match):\n",
    "    if len(i) == 0:\n",
    "        consecutive += 1\n",
    "        count += 1\n",
    "    else:\n",
    "        max_consecutive = max(max_consecutive, consecutive)\n",
    "        consecutive = 0\n",
    "print(\"Total count: \", count)\n",
    "print(\"Max length of matching string: \", max_consecutive)"
   ]
  }
 ],
 "metadata": {
  "kernelspec": {
   "display_name": "Python 3 (ipykernel)",
   "language": "python",
   "name": "python3"
  },
  "language_info": {
   "codemirror_mode": {
    "name": "ipython",
    "version": 3
   },
   "file_extension": ".py",
   "mimetype": "text/x-python",
   "name": "python",
   "nbconvert_exporter": "python",
   "pygments_lexer": "ipython3",
   "version": "3.12.4"
  }
 },
 "nbformat": 4,
 "nbformat_minor": 5
}
