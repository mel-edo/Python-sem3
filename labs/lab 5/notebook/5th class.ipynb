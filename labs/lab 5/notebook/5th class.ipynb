{
 "cells": [
  {
   "cell_type": "code",
   "execution_count": 8,
   "id": "73c422f0-290d-4960-acce-19b3a6bde4b9",
   "metadata": {},
   "outputs": [
    {
     "name": "stdout",
     "output_type": "stream",
     "text": [
      " 175\n"
     ]
    },
    {
     "name": "stdout",
     "output_type": "stream",
     "text": [
      "175 is a disarium number\n"
     ]
    }
   ],
   "source": [
    "# 1) WAP to check if given number is disarium number (1^1 + 7^2 + 5^3 = 175)\n",
    "num = input()\n",
    "sum = 0\n",
    "count = 1\n",
    "for i in num:\n",
    "    sum += int(i)**count\n",
    "    count += 1\n",
    "if sum == int(num):\n",
    "    print(num, \"is a disarium number\")\n",
    "else:\n",
    "    print(num, \"is not a disarium number\")\n"
   ]
  },
  {
   "cell_type": "code",
   "execution_count": 12,
   "id": "713566c6-a4a8-493e-8955-d57e2ac6d943",
   "metadata": {},
   "outputs": [
    {
     "name": "stdout",
     "output_type": "stream",
     "text": [
      " 50\n"
     ]
    },
    {
     "name": "stdout",
     "output_type": "stream",
     "text": [
      "50 is harshad number\n"
     ]
    }
   ],
   "source": [
    "# 2) WAP to det whether the given number is a harshad number (if number is divisible by the sum of its digits, then its harshad number)\n",
    "num = input()\n",
    "sum = 0\n",
    "for i in num:\n",
    "    sum += int(i)\n",
    "if int(num) % sum == 0:\n",
    "    print(num, \"is harshad number\")\n",
    "else:\n",
    "    print(num, \"is not a harshad number\")"
   ]
  },
  {
   "cell_type": "code",
   "execution_count": 18,
   "id": "799f43b3-57ec-424e-b5a0-ab7b3ee8afb7",
   "metadata": {},
   "outputs": [
    {
     "name": "stdout",
     "output_type": "stream",
     "text": [
      "1\n",
      "2\n",
      "3\n",
      "4\n",
      "5\n",
      "6\n",
      "7\n",
      "8\n",
      "9\n",
      "153\n",
      "370\n",
      "371\n",
      "407\n"
     ]
    }
   ],
   "source": [
    "# 3) WAP to print armstrong number from 1 to 1000\n",
    "num = 1\n",
    "while num < 1000:\n",
    "    sum = 0\n",
    "    for i in str(num):\n",
    "        sum += int(i)**len(str(num))\n",
    "    if sum == num:\n",
    "        print(num)\n",
    "    num += 1\n"
   ]
  },
  {
   "cell_type": "code",
   "execution_count": 3,
   "id": "8bd15c9c-7e2e-43d3-b64e-25ff50e79d4c",
   "metadata": {},
   "outputs": [
    {
     "name": "stdout",
     "output_type": "stream",
     "text": [
      " 5\n",
      " 3\n"
     ]
    },
    {
     "name": "stdout",
     "output_type": "stream",
     "text": [
      "125\n"
     ]
    }
   ],
   "source": [
    "# 4) WAP to compute value of X^n\n",
    "x = int(input())\n",
    "n = int(input())\n",
    "print(x**n)"
   ]
  },
  {
   "cell_type": "code",
   "execution_count": 7,
   "id": "2a29c2a0-6013-42db-bc76-a4c2976d4372",
   "metadata": {},
   "outputs": [
    {
     "name": "stdout",
     "output_type": "stream",
     "text": [
      " 5\n",
      " 2\n"
     ]
    },
    {
     "name": "stdout",
     "output_type": "stream",
     "text": [
      "10.0\n"
     ]
    }
   ],
   "source": [
    "# 5) WAP to compute the value of nCr\n",
    "import math\n",
    "n = int(input())\n",
    "r = int(input())\n",
    "\n",
    "# n!/r! * (n - r)!\n",
    "print(math.factorial(n) / (math.factorial(r) * math.factorial(n - r)))"
   ]
  },
  {
   "cell_type": "code",
   "execution_count": 12,
   "id": "db96e149-a2c5-4d27-bb2a-cc2443ec5c15",
   "metadata": {},
   "outputs": [
    {
     "name": "stdout",
     "output_type": "stream",
     "text": [
      " 10\n"
     ]
    },
    {
     "name": "stdout",
     "output_type": "stream",
     "text": [
      "[0, 1, 1, 2, 3, 5, 8, 13, 21, 34]\n"
     ]
    }
   ],
   "source": [
    "# 6) WAP to generate the fibonacci series\n",
    "# 0, 1, 1, 2, 3, 5, 8\n",
    "cache = [0, 1]\n",
    "n = int(input())\n",
    "cur = 1\n",
    "for i in range(n - 2):\n",
    "    cache.append(cache[cur] + cache[cur - 1])\n",
    "    cur += 1\n",
    "    n += 1\n",
    "print(cache)"
   ]
  },
  {
   "cell_type": "code",
   "execution_count": 14,
   "id": "5ae15f19-9aaf-40a3-9ec7-1d76633b2cf6",
   "metadata": {},
   "outputs": [
    {
     "name": "stdout",
     "output_type": "stream",
     "text": [
      " 123\n"
     ]
    },
    {
     "name": "stdout",
     "output_type": "stream",
     "text": [
      "6\n"
     ]
    }
   ],
   "source": [
    "# 7) WAP to count the sum of digits in the entered number\n",
    "num = input()\n",
    "sum = 0\n",
    "for i in num:\n",
    "    sum += int(i)\n",
    "print(sum)"
   ]
  },
  {
   "cell_type": "code",
   "execution_count": 16,
   "id": "bed421e9-3e06-487f-be8d-73b493a0d5ab",
   "metadata": {},
   "outputs": [
    {
     "name": "stdout",
     "output_type": "stream",
     "text": [
      " 500\n"
     ]
    },
    {
     "name": "stdout",
     "output_type": "stream",
     "text": [
      "5\n"
     ]
    }
   ],
   "source": [
    "# 8) WAP to find the reverse of given number\n",
    "num = input()\n",
    "print(int(num[::-1]))"
   ]
  },
  {
   "cell_type": "code",
   "execution_count": 1,
   "id": "2a2fb2cd-bc25-43b7-9017-21fd56f9f816",
   "metadata": {},
   "outputs": [
    {
     "name": "stdout",
     "output_type": "stream",
     "text": [
      " 6\n"
     ]
    },
    {
     "name": "stdout",
     "output_type": "stream",
     "text": [
      "6 is a perfect number\n"
     ]
    }
   ],
   "source": [
    "# 9) WAP to check whether the given number is perfect or not\n",
    "# perfect number is a number which is equal to sum of its positive proper divisors\n",
    "num = int(input())\n",
    "divisors = [1]\n",
    "for i in range(2, num):\n",
    "    if num % i == 0:\n",
    "        divisors.append(i)\n",
    "if num == sum(divisors):\n",
    "    print(num, \"is a perfect number\")"
   ]
  },
  {
   "cell_type": "code",
   "execution_count": 3,
   "id": "a763e0c2-1f18-43c2-bd63-58fb18d40dbd",
   "metadata": {},
   "outputs": [
    {
     "name": "stdout",
     "output_type": "stream",
     "text": [
      " 1001\n"
     ]
    },
    {
     "name": "stdout",
     "output_type": "stream",
     "text": [
      "1001 is a palindrome\n"
     ]
    }
   ],
   "source": [
    "# 10) WAP to check whether a given number is palindrome or not\n",
    "num = input()\n",
    "if num == num[::-1]:\n",
    "    print(int(num), \"is a palindrome\")\n",
    "else:\n",
    "    print(int(num), \"is not a palindrome\")"
   ]
  },
  {
   "cell_type": "code",
   "execution_count": 13,
   "id": "75d687db-d9f8-4076-9ade-b50816978e4c",
   "metadata": {},
   "outputs": [
    {
     "name": "stdout",
     "output_type": "stream",
     "text": [
      " 5\n"
     ]
    },
    {
     "name": "stdout",
     "output_type": "stream",
     "text": [
      "1 \n",
      "1 2 \n",
      "1 2 3 \n",
      "1 2 3 4 \n",
      "1 2 3 4 5 \n"
     ]
    }
   ],
   "source": [
    "# 11) write a program to print following pattern\n",
    "'''\n",
    "1\n",
    "1 2\n",
    "1 2 3\n",
    "1 2 3 4\n",
    "1 2 3 4 5'''\n",
    "n = int(input())\n",
    "for i in range(1, n + 1):\n",
    "    for j in range(1, i + 1):\n",
    "        print(j, end=\" \")\n",
    "    print()"
   ]
  },
  {
   "cell_type": "code",
   "execution_count": 15,
   "id": "9bc7eac2-ef33-4c3b-871e-2dbeb38ee368",
   "metadata": {},
   "outputs": [
    {
     "name": "stdout",
     "output_type": "stream",
     "text": [
      " 5\n"
     ]
    },
    {
     "name": "stdout",
     "output_type": "stream",
     "text": [
      "1 \n",
      "2 2 \n",
      "3 3 3 \n",
      "4 4 4 4 \n",
      "5 5 5 5 5 \n"
     ]
    }
   ],
   "source": [
    "# 12) pattern:\n",
    "'''\n",
    "1\n",
    "2 2\n",
    "3 3 3\n",
    "4 4 4 4\n",
    "5 5 5 5 5'''\n",
    "n = int(input())\n",
    "for i in range(1, n + 1):\n",
    "    for j in range(1, i + 1):\n",
    "        print(i, end=\" \")\n",
    "    print()"
   ]
  },
  {
   "cell_type": "code",
   "execution_count": 21,
   "id": "4f7dcfd5-01a6-4d96-a538-1a79353e44fe",
   "metadata": {},
   "outputs": [
    {
     "name": "stdout",
     "output_type": "stream",
     "text": [
      " 5\n"
     ]
    },
    {
     "name": "stdout",
     "output_type": "stream",
     "text": [
      "A \n",
      "B B \n",
      "C C C \n",
      "D D D D \n",
      "E E E E E \n"
     ]
    }
   ],
   "source": [
    "# 13) pattern:\n",
    "'''\n",
    "A\n",
    "B B\n",
    "C C C\n",
    "D D D D\n",
    "E E E E E'''\n",
    "n = int(input())\n",
    "for i in range(1, n + 1):\n",
    "    for j in range(1, i + 1):\n",
    "        print(chr(i + 64), end=\" \")\n",
    "    print()"
   ]
  },
  {
   "cell_type": "code",
   "execution_count": 7,
   "id": "5cf5871a-e567-4c86-a0a0-cd91faefde1b",
   "metadata": {},
   "outputs": [
    {
     "name": "stdout",
     "output_type": "stream",
     "text": [
      " 5\n"
     ]
    },
    {
     "name": "stdout",
     "output_type": "stream",
     "text": [
      "* * * * * \n",
      "* * * * \n",
      "* * * \n",
      "* * \n",
      "* \n",
      "\n"
     ]
    }
   ],
   "source": [
    "# 14) pattern:\n",
    "'''\n",
    "*****\n",
    "****\n",
    "***\n",
    "**\n",
    "*'''\n",
    "n = int(input())\n",
    "for i in range(n + 1, 0,  -1):\n",
    "    for j in range(i + 1, 2, -1):\n",
    "        print(\"*\", end=\" \")\n",
    "    print()"
   ]
  },
  {
   "cell_type": "code",
   "execution_count": 15,
   "id": "b904ea25-01a5-4e62-8265-d4de6ab402a0",
   "metadata": {},
   "outputs": [
    {
     "name": "stdout",
     "output_type": "stream",
     "text": [
      " 5\n"
     ]
    },
    {
     "name": "stdout",
     "output_type": "stream",
     "text": [
      "1 2 3 4 5 \n",
      "1 2 3 4 \n",
      "1 2 3 \n",
      "1 2 \n",
      "1 \n",
      "\n"
     ]
    }
   ],
   "source": [
    "# 15) pattern:\n",
    "'''\n",
    "1 2 3 4 5\n",
    "1 2 3 4\n",
    "1 2 3\n",
    "1 2\n",
    "1'''\n",
    "n = int(input())\n",
    "for i in range(n + 1, 0,  -1):\n",
    "    for j in range(2, i + 1):\n",
    "        print(j - 1, end=\" \")\n",
    "    print()"
   ]
  },
  {
   "cell_type": "code",
   "execution_count": 7,
   "id": "b0bd20c9-a15f-4f2a-bb98-cad7645bcecc",
   "metadata": {},
   "outputs": [
    {
     "name": "stdout",
     "output_type": "stream",
     "text": [
      "    *\n",
      "   ***\n",
      "  *****\n",
      " *******\n",
      "*********\n"
     ]
    }
   ],
   "source": [
    "# 16) pattern:\n",
    "'''\n",
    "    *\n",
    "   ***\n",
    "  *****\n",
    " *******\n",
    "*********'''\n",
    "rows = int(input())\n",
    "for i in range(rows):\n",
    "    for j in range(rows - i - 1):\n",
    "        print(\" \", end=\"\")\n",
    "    for k in range(2 * i + 1):\n",
    "        print(\"*\", end=\"\")\n",
    "    print()\n"
   ]
  },
  {
   "cell_type": "code",
   "execution_count": 6,
   "id": "cb73b362-e244-42cf-94b8-8c7526bf1a51",
   "metadata": {},
   "outputs": [
    {
     "name": "stdout",
     "output_type": "stream",
     "text": [
      "        1 \n",
      "      2 3 2 \n",
      "    3 4 5 4 3 \n",
      "  4 5 6 7 6 5 4 \n",
      "5 6 7 8 9 8 7 6 5 \n"
     ]
    }
   ],
   "source": [
    "# 17) pattern:\n",
    "'''\n",
    "        1\n",
    "      2 3 2\n",
    "    3 4 5 4 3\n",
    "  4 5 6 7 6 5 4\n",
    "5 6 7 8 9 8 7 6 5'''\n",
    "rows = 5\n",
    "for i in range(1, rows + 1):\n",
    "    for j in range(rows - i):\n",
    "        print(\" \", end=\" \")\n",
    "    for j in range(i, 2 * i):\n",
    "        print(j, end=\" \")\n",
    "    for j in range(2 * i - 2, i - 1, -1):\n",
    "        print(j, end=\" \")\n",
    "    print()"
   ]
  },
  {
   "cell_type": "code",
   "execution_count": 5,
   "id": "a0be3259-80da-4fb2-b68a-c0b0e053c1ac",
   "metadata": {},
   "outputs": [
    {
     "name": "stdout",
     "output_type": "stream",
     "text": [
      "*********\n",
      " *******\n",
      "  *****\n",
      "   ***\n",
      "    *\n"
     ]
    }
   ],
   "source": [
    "# 18) pattern:\n",
    "'''\n",
    "    *********\n",
    "     *******\n",
    "      *****\n",
    "       ***\n",
    "        *\n",
    "'''\n",
    "rows = 5\n",
    "for i in range(rows):\n",
    "    for j in range(i):\n",
    "        print(\" \", end=\"\")\n",
    "    for k in range(2 * (rows - i) - 1):\n",
    "        print(\"*\", end=\"\")\n",
    "    print()"
   ]
  },
  {
   "cell_type": "code",
   "execution_count": 4,
   "id": "7b4553c6-2911-490b-b8bc-f682c05bce8c",
   "metadata": {},
   "outputs": [
    {
     "name": "stdout",
     "output_type": "stream",
     "text": [
      "      1 \n",
      "     1 1 \n",
      "    1 2 1 \n",
      "   1 3 3 1 \n",
      "  1 4 6 4 1 \n",
      " 1 5 10 10 5 1 \n"
     ]
    }
   ],
   "source": [
    "# 19) pattern:\n",
    "'''\n",
    "        1\n",
    "       1 1\n",
    "      1 2 1\n",
    "     1 3 3 1\n",
    "    1 4 6 4 1\n",
    "  1 5 10 10 5 1\n",
    "'''\n",
    "rows = 6\n",
    "for i in range(rows):\n",
    "    print(' ' * (rows - i), end='')\n",
    "    num = 1\n",
    "    for j in range(i + 1):\n",
    "        print(num, end=' ')\n",
    "        num = num * (i - j) // (j + 1)\n",
    "    print()"
   ]
  },
  {
   "cell_type": "code",
   "execution_count": 3,
   "id": "aed29e99-c171-451a-8d62-5b9ca046cc69",
   "metadata": {},
   "outputs": [
    {
     "name": "stdout",
     "output_type": "stream",
     "text": [
      "1 \n",
      "2 3 \n",
      "4 5 6 \n",
      "7 8 9 10 \n"
     ]
    }
   ],
   "source": [
    "# 20) pattern:\n",
    "'''\n",
    "1\n",
    "2 3\n",
    "4 5 6\n",
    "7 8 9 10'''\n",
    "rows = 4\n",
    "count = 1\n",
    "for i in range(rows):\n",
    "    for j in range(i + 1):\n",
    "        print(count, end=' ')\n",
    "        count += 1\n",
    "    print()\n"
   ]
  },
  {
   "cell_type": "code",
   "execution_count": 2,
   "id": "0d9a56a5-1ceb-4c2b-9fb1-c16a80e599fd",
   "metadata": {},
   "outputs": [
    {
     "name": "stdout",
     "output_type": "stream",
     "text": [
      "A \n",
      "B A B \n",
      "A B A B A \n",
      "B A B A B A B \n"
     ]
    }
   ],
   "source": [
    "# 21) pattern:\n",
    "'''\n",
    "A\n",
    "B A B\n",
    "A B A B A\n",
    "B A B A B A B'''\n",
    "rows = 4\n",
    "f = 0\n",
    "for i in range(rows):\n",
    "    for j in range(2 * i + 1):\n",
    "        if f == 0:\n",
    "            print(\"A\", end=\" \")\n",
    "            f = 1\n",
    "        else:\n",
    "            print(\"B\", end=\" \")\n",
    "            f = 0\n",
    "    print()"
   ]
  },
  {
   "cell_type": "code",
   "execution_count": 1,
   "id": "458093bb-f5fb-4a9d-a8a7-5d65baf8f22b",
   "metadata": {},
   "outputs": [
    {
     "name": "stdout",
     "output_type": "stream",
     "text": [
      "1 \n",
      "0 1 0 \n",
      "1 0 1 0 1 \n",
      "0 1 0 1 0 1 0 \n"
     ]
    }
   ],
   "source": [
    "# 22) pattern:\n",
    "'''\n",
    "1\n",
    "0 1 0\n",
    "1 0 1 0 1\n",
    "0 1 0 1 0 1 0'''\n",
    "rows = 4\n",
    "f = 0\n",
    "for i in range(rows):\n",
    "    for j in range(2 * i + 1):\n",
    "        if f == 0:\n",
    "            print(1, end=\" \")\n",
    "            f = 1\n",
    "        else:\n",
    "            print(0, end=\" \")\n",
    "            f = 0\n",
    "    print()"
   ]
  }
 ],
 "metadata": {
  "kernelspec": {
   "display_name": "Python 3",
   "language": "python",
   "name": "python3"
  },
  "language_info": {
   "codemirror_mode": {
    "name": "ipython",
    "version": 3
   },
   "file_extension": ".py",
   "mimetype": "text/x-python",
   "name": "python",
   "nbconvert_exporter": "python",
   "pygments_lexer": "ipython3",
   "version": "3.12.6"
  }
 },
 "nbformat": 4,
 "nbformat_minor": 5
}
