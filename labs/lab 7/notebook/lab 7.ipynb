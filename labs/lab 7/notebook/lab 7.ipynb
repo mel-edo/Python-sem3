{
 "cells": [
  {
   "cell_type": "code",
   "execution_count": 5,
   "id": "387bac10-1974-421a-bc4d-91835e2cd974",
   "metadata": {},
   "outputs": [
    {
     "name": "stdout",
     "output_type": "stream",
     "text": [
      "2\n",
      "2\n",
      "[1, 2, 3, 4, 5, 100]\n",
      "1\n",
      "100\n",
      "[1, 2, 3, 4, 5, 5]\n",
      "[]\n"
     ]
    }
   ],
   "source": [
    "# 1) WAP to use various inbuilt functions of list\n",
    "\n",
    "l1 = [1, 2, 3, 4, 5]\n",
    "l1.append(5)\n",
    "l2 = l1.copy()\n",
    "print(l1.count(5))\n",
    "print(l1.index(3))\n",
    "l1.extend([100, 200])\n",
    "l1.pop()\n",
    "l1.remove(5)\n",
    "l1.reverse()\n",
    "l1.sort()\n",
    "print(l1)\n",
    "print(min(l1))\n",
    "print(max(l1))\n",
    "\n",
    "print(l2)\n",
    "l2.clear()\n",
    "print(l2)"
   ]
  },
  {
   "cell_type": "code",
   "execution_count": 9,
   "id": "e2d7cbc4-0c62-4a5d-9332-31fd911080f6",
   "metadata": {},
   "outputs": [
    {
     "name": "stdout",
     "output_type": "stream",
     "text": [
      "[1, 4, 9, 16, 25]\n"
     ]
    }
   ],
   "source": [
    "# 2) WAP to pass the list as an argument in the function\n",
    "def square(list):\n",
    "    res = []\n",
    "    for i in list:\n",
    "        res.append(i**2)\n",
    "    return res\n",
    "\n",
    "print(square([1, 2, 3, 4, 5]))"
   ]
  },
  {
   "cell_type": "code",
   "execution_count": 7,
   "id": "b3828e8f-e44a-4e7d-a79b-ac002bd376fb",
   "metadata": {},
   "outputs": [
    {
     "name": "stdout",
     "output_type": "stream",
     "text": [
      "[1, 8, 27, 64, 125, 216]\n"
     ]
    }
   ],
   "source": [
    "# 3) WAP to take variable length arguments in function and perform cube of each element\n",
    "def cube(*args):\n",
    "    res = [x**3 for x in args]\n",
    "    return res\n",
    "\n",
    "print(cube(1, 2, 3, 4, 5, 6))"
   ]
  },
  {
   "cell_type": "code",
   "execution_count": 33,
   "id": "6cadd747-7a73-40c8-a19a-b033d6e69041",
   "metadata": {},
   "outputs": [
    {
     "name": "stdout",
     "output_type": "stream",
     "text": [
      "Move disk 1 from rod A to rod C\n",
      "Move disk 2 from rod A to rod B\n",
      "Move disk 1 from rod C to rod B\n",
      "Move disk 3 from rod A to rod C\n",
      "Move disk 1 from rod B to rod A\n",
      "Move disk 2 from rod B to rod C\n",
      "Move disk 1 from rod A to rod C\n"
     ]
    }
   ],
   "source": [
    "# 4) WAP for solving tower of hanoi for n = 3 disks\n",
    "def TowerOfHanoi(n, from_rod, to_rod, aux_rod):\n",
    "    if n == 0:\n",
    "        return\n",
    "    TowerOfHanoi(n-1, from_rod, aux_rod, to_rod)\n",
    "    print(\"Move disk\", n, \"from rod\", from_rod, \"to rod\", to_rod)\n",
    "    TowerOfHanoi(n-1, aux_rod, to_rod, from_rod)\n",
    "N = 3\n",
    "\n",
    "TowerOfHanoi(N, 'A', 'C', 'B')"
   ]
  },
  {
   "cell_type": "code",
   "execution_count": 15,
   "id": "9c473a5b-f107-460b-aa38-be2b6101cb0d",
   "metadata": {},
   "outputs": [
    {
     "name": "stdin",
     "output_type": "stream",
     "text": [
      "Enter string:  HEbbruMAS\n"
     ]
    },
    {
     "name": "stdout",
     "output_type": "stream",
     "text": [
      "Uppercase letters:  5 \n",
      "Lowercase letters:  4\n"
     ]
    }
   ],
   "source": [
    "# 5) WAP that accepts strings and calculates the number of uppercase and lowercase letters in the string\n",
    "str1 = input(\"Enter string: \")\n",
    "\n",
    "upper, lower = 0, 0\n",
    "for i in str1:\n",
    "    if 97 <= ord(i) <= 122:\n",
    "        lower += 1\n",
    "    elif 65 <= ord(i) <= 90:\n",
    "        upper += 1\n",
    "print(\"Uppercase letters: \", upper, \"\\nLowercase letters: \", lower)"
   ]
  },
  {
   "cell_type": "code",
   "execution_count": 29,
   "id": "a2a53778-f950-4379-9c5b-350dea085e63",
   "metadata": {},
   "outputs": [
    {
     "name": "stdin",
     "output_type": "stream",
     "text": [
      "Num1:  10\n",
      "Num2:  1000\n"
     ]
    },
    {
     "name": "stdout",
     "output_type": "stream",
     "text": [
      "10 is the GCD of 10 and 1000\n"
     ]
    }
   ],
   "source": [
    "# 6) WAP to compute GCD of 2 numbers\n",
    "num1 = int(input(\"Num1: \"))\n",
    "num2 = int(input(\"Num2: \"))\n",
    "\n",
    "for i in range(min(num1, num2), 0, -1):\n",
    "    if num1 % i == 0 and num2 % i == 0:\n",
    "        print(i, \"is the GCD of\", num1, \"and\", num2)\n",
    "        break"
   ]
  }
 ],
 "metadata": {
  "kernelspec": {
   "display_name": "Python 3 (ipykernel)",
   "language": "python",
   "name": "python3"
  },
  "language_info": {
   "codemirror_mode": {
    "name": "ipython",
    "version": 3
   },
   "file_extension": ".py",
   "mimetype": "text/x-python",
   "name": "python",
   "nbconvert_exporter": "python",
   "pygments_lexer": "ipython3",
   "version": "3.12.4"
  }
 },
 "nbformat": 4,
 "nbformat_minor": 5
}
